{
  "nbformat": 4,
  "nbformat_minor": 0,
  "metadata": {
    "colab": {
      "name": "Concrete Compressive Strength.ipynb",
      "provenance": [],
      "collapsed_sections": [],
      "authorship_tag": "ABX9TyPLP/LV1fJF4eiJgNjVvqku",
      "include_colab_link": true
    },
    "kernelspec": {
      "name": "python3",
      "display_name": "Python 3"
    },
    "language_info": {
      "name": "python"
    }
  },
  "cells": [
    {
      "cell_type": "markdown",
      "metadata": {
        "id": "view-in-github",
        "colab_type": "text"
      },
      "source": [
        "<a href=\"https://colab.research.google.com/github/ammad19/DL_1Assignment/blob/main/Concrete_Compressive_Strength.ipynb\" target=\"_parent\"><img src=\"https://colab.research.google.com/assets/colab-badge.svg\" alt=\"Open In Colab\"/></a>"
      ]
    },
    {
      "cell_type": "code",
      "metadata": {
        "id": "ejkD7sds5tmc"
      },
      "source": [
        "import numpy as np\n",
        "import pandas as pd\n",
        "import matplotlib.pyplot as plt\n",
        "import seaborn as sns\n"
      ],
      "execution_count": 1,
      "outputs": []
    },
    {
      "cell_type": "code",
      "metadata": {
        "id": "4VYVR8vI6AuV"
      },
      "source": [
        "data = pd.read_csv(\"compresive_strength_concrete.csv\")"
      ],
      "execution_count": 3,
      "outputs": []
    },
    {
      "cell_type": "code",
      "metadata": {
        "colab": {
          "base_uri": "https://localhost:8080/",
          "height": 255
        },
        "id": "4c629oJb6qH-",
        "outputId": "8b51e612-c652-4f62-f222-358ca71925b8"
      },
      "source": [
        "data.head()"
      ],
      "execution_count": 4,
      "outputs": [
        {
          "output_type": "execute_result",
          "data": {
            "text/html": [
              "<div>\n",
              "<style scoped>\n",
              "    .dataframe tbody tr th:only-of-type {\n",
              "        vertical-align: middle;\n",
              "    }\n",
              "\n",
              "    .dataframe tbody tr th {\n",
              "        vertical-align: top;\n",
              "    }\n",
              "\n",
              "    .dataframe thead th {\n",
              "        text-align: right;\n",
              "    }\n",
              "</style>\n",
              "<table border=\"1\" class=\"dataframe\">\n",
              "  <thead>\n",
              "    <tr style=\"text-align: right;\">\n",
              "      <th></th>\n",
              "      <th>Cement (component 1)(kg in a m^3 mixture)</th>\n",
              "      <th>Blast Furnace Slag (component 2)(kg in a m^3 mixture)</th>\n",
              "      <th>Fly Ash (component 3)(kg in a m^3 mixture)</th>\n",
              "      <th>Water  (component 4)(kg in a m^3 mixture)</th>\n",
              "      <th>Superplasticizer (component 5)(kg in a m^3 mixture)</th>\n",
              "      <th>Coarse Aggregate  (component 6)(kg in a m^3 mixture)</th>\n",
              "      <th>Fine Aggregate (component 7)(kg in a m^3 mixture)</th>\n",
              "      <th>Age (day)</th>\n",
              "      <th>Concrete compressive strength(MPa, megapascals)</th>\n",
              "    </tr>\n",
              "  </thead>\n",
              "  <tbody>\n",
              "    <tr>\n",
              "      <th>0</th>\n",
              "      <td>540.0</td>\n",
              "      <td>0.0</td>\n",
              "      <td>0.0</td>\n",
              "      <td>162.0</td>\n",
              "      <td>2.5</td>\n",
              "      <td>1040.0</td>\n",
              "      <td>676.0</td>\n",
              "      <td>28</td>\n",
              "      <td>79.99</td>\n",
              "    </tr>\n",
              "    <tr>\n",
              "      <th>1</th>\n",
              "      <td>540.0</td>\n",
              "      <td>0.0</td>\n",
              "      <td>0.0</td>\n",
              "      <td>162.0</td>\n",
              "      <td>2.5</td>\n",
              "      <td>1055.0</td>\n",
              "      <td>676.0</td>\n",
              "      <td>28</td>\n",
              "      <td>61.89</td>\n",
              "    </tr>\n",
              "    <tr>\n",
              "      <th>2</th>\n",
              "      <td>332.5</td>\n",
              "      <td>142.5</td>\n",
              "      <td>0.0</td>\n",
              "      <td>228.0</td>\n",
              "      <td>0.0</td>\n",
              "      <td>932.0</td>\n",
              "      <td>594.0</td>\n",
              "      <td>270</td>\n",
              "      <td>40.27</td>\n",
              "    </tr>\n",
              "    <tr>\n",
              "      <th>3</th>\n",
              "      <td>332.5</td>\n",
              "      <td>142.5</td>\n",
              "      <td>0.0</td>\n",
              "      <td>228.0</td>\n",
              "      <td>0.0</td>\n",
              "      <td>932.0</td>\n",
              "      <td>594.0</td>\n",
              "      <td>365</td>\n",
              "      <td>41.05</td>\n",
              "    </tr>\n",
              "    <tr>\n",
              "      <th>4</th>\n",
              "      <td>198.6</td>\n",
              "      <td>132.4</td>\n",
              "      <td>0.0</td>\n",
              "      <td>192.0</td>\n",
              "      <td>0.0</td>\n",
              "      <td>978.4</td>\n",
              "      <td>825.5</td>\n",
              "      <td>360</td>\n",
              "      <td>44.30</td>\n",
              "    </tr>\n",
              "  </tbody>\n",
              "</table>\n",
              "</div>"
            ],
            "text/plain": [
              "   Cement (component 1)(kg in a m^3 mixture)  ...  Concrete compressive strength(MPa, megapascals) \n",
              "0                                      540.0  ...                                             79.99\n",
              "1                                      540.0  ...                                             61.89\n",
              "2                                      332.5  ...                                             40.27\n",
              "3                                      332.5  ...                                             41.05\n",
              "4                                      198.6  ...                                             44.30\n",
              "\n",
              "[5 rows x 9 columns]"
            ]
          },
          "metadata": {
            "tags": []
          },
          "execution_count": 4
        }
      ]
    },
    {
      "cell_type": "code",
      "metadata": {
        "colab": {
          "base_uri": "https://localhost:8080/"
        },
        "id": "mHRFGAeW67aE",
        "outputId": "c8a485fc-adc2-4f51-8bfb-4b7e79d3a2fa"
      },
      "source": [
        "data.ndim"
      ],
      "execution_count": 6,
      "outputs": [
        {
          "output_type": "execute_result",
          "data": {
            "text/plain": [
              "2"
            ]
          },
          "metadata": {
            "tags": []
          },
          "execution_count": 6
        }
      ]
    },
    {
      "cell_type": "code",
      "metadata": {
        "colab": {
          "base_uri": "https://localhost:8080/"
        },
        "id": "25v4YxDd69SQ",
        "outputId": "98c41c5f-c02b-43b2-ed73-c8d90cf9c4e8"
      },
      "source": [
        "len(data)"
      ],
      "execution_count": 7,
      "outputs": [
        {
          "output_type": "execute_result",
          "data": {
            "text/plain": [
              "1030"
            ]
          },
          "metadata": {
            "tags": []
          },
          "execution_count": 7
        }
      ]
    },
    {
      "cell_type": "code",
      "metadata": {
        "colab": {
          "base_uri": "https://localhost:8080/"
        },
        "id": "pH3IpLfd7BkX",
        "outputId": "6fa06a30-2f29-4cd6-f3c2-d2f9636ce8b9"
      },
      "source": [
        "data.isnull().sum()"
      ],
      "execution_count": 10,
      "outputs": [
        {
          "output_type": "execute_result",
          "data": {
            "text/plain": [
              "Cement (component 1)(kg in a m^3 mixture)                0\n",
              "Blast Furnace Slag (component 2)(kg in a m^3 mixture)    0\n",
              "Fly Ash (component 3)(kg in a m^3 mixture)               0\n",
              "Water  (component 4)(kg in a m^3 mixture)                0\n",
              "Superplasticizer (component 5)(kg in a m^3 mixture)      0\n",
              "Coarse Aggregate  (component 6)(kg in a m^3 mixture)     0\n",
              "Fine Aggregate (component 7)(kg in a m^3 mixture)        0\n",
              "Age (day)                                                0\n",
              "Concrete compressive strength(MPa, megapascals)          0\n",
              "dtype: int64"
            ]
          },
          "metadata": {
            "tags": []
          },
          "execution_count": 10
        }
      ]
    },
    {
      "cell_type": "code",
      "metadata": {
        "colab": {
          "base_uri": "https://localhost:8080/",
          "height": 348
        },
        "id": "8oJ_irs87yJt",
        "outputId": "c0214fe5-41f2-464b-fed7-fb60a1ef8910"
      },
      "source": [
        "data.describe()"
      ],
      "execution_count": 11,
      "outputs": [
        {
          "output_type": "execute_result",
          "data": {
            "text/html": [
              "<div>\n",
              "<style scoped>\n",
              "    .dataframe tbody tr th:only-of-type {\n",
              "        vertical-align: middle;\n",
              "    }\n",
              "\n",
              "    .dataframe tbody tr th {\n",
              "        vertical-align: top;\n",
              "    }\n",
              "\n",
              "    .dataframe thead th {\n",
              "        text-align: right;\n",
              "    }\n",
              "</style>\n",
              "<table border=\"1\" class=\"dataframe\">\n",
              "  <thead>\n",
              "    <tr style=\"text-align: right;\">\n",
              "      <th></th>\n",
              "      <th>Cement (component 1)(kg in a m^3 mixture)</th>\n",
              "      <th>Blast Furnace Slag (component 2)(kg in a m^3 mixture)</th>\n",
              "      <th>Fly Ash (component 3)(kg in a m^3 mixture)</th>\n",
              "      <th>Water  (component 4)(kg in a m^3 mixture)</th>\n",
              "      <th>Superplasticizer (component 5)(kg in a m^3 mixture)</th>\n",
              "      <th>Coarse Aggregate  (component 6)(kg in a m^3 mixture)</th>\n",
              "      <th>Fine Aggregate (component 7)(kg in a m^3 mixture)</th>\n",
              "      <th>Age (day)</th>\n",
              "      <th>Concrete compressive strength(MPa, megapascals)</th>\n",
              "    </tr>\n",
              "  </thead>\n",
              "  <tbody>\n",
              "    <tr>\n",
              "      <th>count</th>\n",
              "      <td>1030.000000</td>\n",
              "      <td>1030.000000</td>\n",
              "      <td>1030.000000</td>\n",
              "      <td>1030.000000</td>\n",
              "      <td>1030.000000</td>\n",
              "      <td>1030.000000</td>\n",
              "      <td>1030.000000</td>\n",
              "      <td>1030.000000</td>\n",
              "      <td>1030.000000</td>\n",
              "    </tr>\n",
              "    <tr>\n",
              "      <th>mean</th>\n",
              "      <td>281.167864</td>\n",
              "      <td>73.895825</td>\n",
              "      <td>54.188350</td>\n",
              "      <td>181.567282</td>\n",
              "      <td>6.204660</td>\n",
              "      <td>972.918932</td>\n",
              "      <td>773.580485</td>\n",
              "      <td>45.662136</td>\n",
              "      <td>35.817961</td>\n",
              "    </tr>\n",
              "    <tr>\n",
              "      <th>std</th>\n",
              "      <td>104.506364</td>\n",
              "      <td>86.279342</td>\n",
              "      <td>63.997004</td>\n",
              "      <td>21.354219</td>\n",
              "      <td>5.973841</td>\n",
              "      <td>77.753954</td>\n",
              "      <td>80.175980</td>\n",
              "      <td>63.169912</td>\n",
              "      <td>16.705742</td>\n",
              "    </tr>\n",
              "    <tr>\n",
              "      <th>min</th>\n",
              "      <td>102.000000</td>\n",
              "      <td>0.000000</td>\n",
              "      <td>0.000000</td>\n",
              "      <td>121.800000</td>\n",
              "      <td>0.000000</td>\n",
              "      <td>801.000000</td>\n",
              "      <td>594.000000</td>\n",
              "      <td>1.000000</td>\n",
              "      <td>2.330000</td>\n",
              "    </tr>\n",
              "    <tr>\n",
              "      <th>25%</th>\n",
              "      <td>192.375000</td>\n",
              "      <td>0.000000</td>\n",
              "      <td>0.000000</td>\n",
              "      <td>164.900000</td>\n",
              "      <td>0.000000</td>\n",
              "      <td>932.000000</td>\n",
              "      <td>730.950000</td>\n",
              "      <td>7.000000</td>\n",
              "      <td>23.710000</td>\n",
              "    </tr>\n",
              "    <tr>\n",
              "      <th>50%</th>\n",
              "      <td>272.900000</td>\n",
              "      <td>22.000000</td>\n",
              "      <td>0.000000</td>\n",
              "      <td>185.000000</td>\n",
              "      <td>6.400000</td>\n",
              "      <td>968.000000</td>\n",
              "      <td>779.500000</td>\n",
              "      <td>28.000000</td>\n",
              "      <td>34.445000</td>\n",
              "    </tr>\n",
              "    <tr>\n",
              "      <th>75%</th>\n",
              "      <td>350.000000</td>\n",
              "      <td>142.950000</td>\n",
              "      <td>118.300000</td>\n",
              "      <td>192.000000</td>\n",
              "      <td>10.200000</td>\n",
              "      <td>1029.400000</td>\n",
              "      <td>824.000000</td>\n",
              "      <td>56.000000</td>\n",
              "      <td>46.135000</td>\n",
              "    </tr>\n",
              "    <tr>\n",
              "      <th>max</th>\n",
              "      <td>540.000000</td>\n",
              "      <td>359.400000</td>\n",
              "      <td>200.100000</td>\n",
              "      <td>247.000000</td>\n",
              "      <td>32.200000</td>\n",
              "      <td>1145.000000</td>\n",
              "      <td>992.600000</td>\n",
              "      <td>365.000000</td>\n",
              "      <td>82.600000</td>\n",
              "    </tr>\n",
              "  </tbody>\n",
              "</table>\n",
              "</div>"
            ],
            "text/plain": [
              "       Cement (component 1)(kg in a m^3 mixture)  ...  Concrete compressive strength(MPa, megapascals) \n",
              "count                                1030.000000  ...                                       1030.000000\n",
              "mean                                  281.167864  ...                                         35.817961\n",
              "std                                   104.506364  ...                                         16.705742\n",
              "min                                   102.000000  ...                                          2.330000\n",
              "25%                                   192.375000  ...                                         23.710000\n",
              "50%                                   272.900000  ...                                         34.445000\n",
              "75%                                   350.000000  ...                                         46.135000\n",
              "max                                   540.000000  ...                                         82.600000\n",
              "\n",
              "[8 rows x 9 columns]"
            ]
          },
          "metadata": {
            "tags": []
          },
          "execution_count": 11
        }
      ]
    },
    {
      "cell_type": "code",
      "metadata": {
        "id": "HyMhguLp8CIE"
      },
      "source": [
        "X = data.iloc[:,:-1]         \n",
        "y = data.iloc[:,-1]"
      ],
      "execution_count": 12,
      "outputs": []
    },
    {
      "cell_type": "code",
      "metadata": {
        "id": "l2lt-2yg8vMR"
      },
      "source": [
        "from sklearn.model_selection import train_test_split\n",
        "X_train, X_test, y_train, y_test = train_test_split(X, y, test_size=0.3, random_state=2)"
      ],
      "execution_count": 13,
      "outputs": []
    },
    {
      "cell_type": "code",
      "metadata": {
        "colab": {
          "base_uri": "https://localhost:8080/"
        },
        "id": "DVc5V1Uq9jbI",
        "outputId": "54b934c2-04fe-4b23-d627-90098057dbd3"
      },
      "source": [
        "import tensorflow as tf\n",
        "from tensorflow.keras.models import Sequential\n",
        "from tensorflow.keras.layers import Dense \n",
        "from tensorflow.keras.optimizers import Adam, SGD\n",
        "model = Sequential()\n",
        "model.add(tf.keras.layers.Dense(64, activation='relu',input_shape =(8,)))\n",
        "#model.add(tf.keras.layers.Dense(1, activation='relu'))\n",
        "model.add(tf.keras.layers.Dense(1,))\n",
        "model.compile(optimizer='rmsprop', loss='mse', metrics=['mae'])  \n",
        "model.fit(X_train, y_train,epochs=100,batch_size=20) "
      ],
      "execution_count": 16,
      "outputs": [
        {
          "output_type": "stream",
          "text": [
            "Epoch 1/100\n",
            "37/37 [==============================] - 1s 1ms/step - loss: 583.2628 - mae: 18.3690\n",
            "Epoch 2/100\n",
            "37/37 [==============================] - 0s 1ms/step - loss: 208.6554 - mae: 11.4732\n",
            "Epoch 3/100\n",
            "37/37 [==============================] - 0s 1ms/step - loss: 146.3745 - mae: 9.5790\n",
            "Epoch 4/100\n",
            "37/37 [==============================] - 0s 1ms/step - loss: 172.1941 - mae: 10.2355\n",
            "Epoch 5/100\n",
            "37/37 [==============================] - 0s 1ms/step - loss: 326.3208 - mae: 12.2129\n",
            "Epoch 6/100\n",
            "37/37 [==============================] - 0s 1ms/step - loss: 170.8003 - mae: 10.3293\n",
            "Epoch 7/100\n",
            "37/37 [==============================] - 0s 1ms/step - loss: 165.6732 - mae: 9.8158\n",
            "Epoch 8/100\n",
            "37/37 [==============================] - 0s 1ms/step - loss: 145.9415 - mae: 9.6276\n",
            "Epoch 9/100\n",
            "37/37 [==============================] - 0s 1ms/step - loss: 166.9211 - mae: 10.0744\n",
            "Epoch 10/100\n",
            "37/37 [==============================] - 0s 1ms/step - loss: 204.8267 - mae: 10.4980\n",
            "Epoch 11/100\n",
            "37/37 [==============================] - 0s 1ms/step - loss: 115.7316 - mae: 8.4634\n",
            "Epoch 12/100\n",
            "37/37 [==============================] - 0s 1ms/step - loss: 126.9446 - mae: 8.8547\n",
            "Epoch 13/100\n",
            "37/37 [==============================] - 0s 1ms/step - loss: 141.1176 - mae: 9.3596\n",
            "Epoch 14/100\n",
            "37/37 [==============================] - 0s 1ms/step - loss: 147.7724 - mae: 9.3619\n",
            "Epoch 15/100\n",
            "37/37 [==============================] - 0s 1ms/step - loss: 124.3801 - mae: 9.0326\n",
            "Epoch 16/100\n",
            "37/37 [==============================] - 0s 1ms/step - loss: 131.1900 - mae: 9.2226\n",
            "Epoch 17/100\n",
            "37/37 [==============================] - 0s 1ms/step - loss: 123.9729 - mae: 8.9756\n",
            "Epoch 18/100\n",
            "37/37 [==============================] - 0s 1ms/step - loss: 128.0794 - mae: 9.0081\n",
            "Epoch 19/100\n",
            "37/37 [==============================] - 0s 1ms/step - loss: 143.7438 - mae: 9.5400\n",
            "Epoch 20/100\n",
            "37/37 [==============================] - 0s 1ms/step - loss: 145.0506 - mae: 9.2546\n",
            "Epoch 21/100\n",
            "37/37 [==============================] - 0s 1ms/step - loss: 156.4953 - mae: 9.9360\n",
            "Epoch 22/100\n",
            "37/37 [==============================] - 0s 1ms/step - loss: 120.8700 - mae: 8.6991\n",
            "Epoch 23/100\n",
            "37/37 [==============================] - 0s 2ms/step - loss: 131.9546 - mae: 9.0293\n",
            "Epoch 24/100\n",
            "37/37 [==============================] - 0s 2ms/step - loss: 114.1052 - mae: 8.7119\n",
            "Epoch 25/100\n",
            "37/37 [==============================] - 0s 1ms/step - loss: 123.7509 - mae: 8.9786\n",
            "Epoch 26/100\n",
            "37/37 [==============================] - 0s 1ms/step - loss: 124.6371 - mae: 8.8980\n",
            "Epoch 27/100\n",
            "37/37 [==============================] - 0s 1ms/step - loss: 130.0558 - mae: 9.2551\n",
            "Epoch 28/100\n",
            "37/37 [==============================] - 0s 1ms/step - loss: 114.5394 - mae: 8.5878\n",
            "Epoch 29/100\n",
            "37/37 [==============================] - 0s 1ms/step - loss: 124.0562 - mae: 8.9119\n",
            "Epoch 30/100\n",
            "37/37 [==============================] - 0s 1ms/step - loss: 88.2507 - mae: 7.4050\n",
            "Epoch 31/100\n",
            "37/37 [==============================] - 0s 1ms/step - loss: 110.6096 - mae: 8.3509\n",
            "Epoch 32/100\n",
            "37/37 [==============================] - 0s 1ms/step - loss: 106.0175 - mae: 8.2948\n",
            "Epoch 33/100\n",
            "37/37 [==============================] - 0s 1ms/step - loss: 95.7597 - mae: 7.6498\n",
            "Epoch 34/100\n",
            "37/37 [==============================] - 0s 1ms/step - loss: 110.4030 - mae: 8.4223\n",
            "Epoch 35/100\n",
            "37/37 [==============================] - 0s 1ms/step - loss: 150.5303 - mae: 9.4795\n",
            "Epoch 36/100\n",
            "37/37 [==============================] - 0s 1ms/step - loss: 116.4570 - mae: 8.6225\n",
            "Epoch 37/100\n",
            "37/37 [==============================] - 0s 1ms/step - loss: 103.5583 - mae: 8.0182\n",
            "Epoch 38/100\n",
            "37/37 [==============================] - 0s 1ms/step - loss: 123.4912 - mae: 8.9234\n",
            "Epoch 39/100\n",
            "37/37 [==============================] - 0s 1ms/step - loss: 123.7820 - mae: 8.8030\n",
            "Epoch 40/100\n",
            "37/37 [==============================] - 0s 1ms/step - loss: 143.3801 - mae: 9.0999\n",
            "Epoch 41/100\n",
            "37/37 [==============================] - 0s 1ms/step - loss: 111.7377 - mae: 8.4103\n",
            "Epoch 42/100\n",
            "37/37 [==============================] - 0s 1ms/step - loss: 110.0961 - mae: 8.5247\n",
            "Epoch 43/100\n",
            "37/37 [==============================] - 0s 1ms/step - loss: 100.7624 - mae: 7.9617\n",
            "Epoch 44/100\n",
            "37/37 [==============================] - 0s 1ms/step - loss: 116.2008 - mae: 8.6498\n",
            "Epoch 45/100\n",
            "37/37 [==============================] - 0s 1ms/step - loss: 96.7188 - mae: 7.7947\n",
            "Epoch 46/100\n",
            "37/37 [==============================] - 0s 1ms/step - loss: 121.2061 - mae: 8.6154\n",
            "Epoch 47/100\n",
            "37/37 [==============================] - 0s 1ms/step - loss: 140.6036 - mae: 9.1161\n",
            "Epoch 48/100\n",
            "37/37 [==============================] - 0s 1ms/step - loss: 90.6636 - mae: 7.5630\n",
            "Epoch 49/100\n",
            "37/37 [==============================] - 0s 1ms/step - loss: 112.9443 - mae: 8.2489\n",
            "Epoch 50/100\n",
            "37/37 [==============================] - 0s 1ms/step - loss: 99.7262 - mae: 8.0715\n",
            "Epoch 51/100\n",
            "37/37 [==============================] - 0s 1ms/step - loss: 86.5251 - mae: 7.3478\n",
            "Epoch 52/100\n",
            "37/37 [==============================] - 0s 1ms/step - loss: 89.5051 - mae: 7.6080\n",
            "Epoch 53/100\n",
            "37/37 [==============================] - 0s 1ms/step - loss: 86.6518 - mae: 7.3145\n",
            "Epoch 54/100\n",
            "37/37 [==============================] - 0s 1ms/step - loss: 90.5595 - mae: 7.2841\n",
            "Epoch 55/100\n",
            "37/37 [==============================] - 0s 1ms/step - loss: 92.3713 - mae: 7.7839\n",
            "Epoch 56/100\n",
            "37/37 [==============================] - 0s 1ms/step - loss: 102.9889 - mae: 8.2325\n",
            "Epoch 57/100\n",
            "37/37 [==============================] - 0s 2ms/step - loss: 109.1935 - mae: 8.2698\n",
            "Epoch 58/100\n",
            "37/37 [==============================] - 0s 1ms/step - loss: 103.0113 - mae: 7.7894\n",
            "Epoch 59/100\n",
            "37/37 [==============================] - 0s 1ms/step - loss: 145.6151 - mae: 8.6388\n",
            "Epoch 60/100\n",
            "37/37 [==============================] - 0s 1ms/step - loss: 131.0277 - mae: 8.8197\n",
            "Epoch 61/100\n",
            "37/37 [==============================] - 0s 1ms/step - loss: 104.2986 - mae: 8.3123\n",
            "Epoch 62/100\n",
            "37/37 [==============================] - 0s 1ms/step - loss: 81.7136 - mae: 7.0817\n",
            "Epoch 63/100\n",
            "37/37 [==============================] - 0s 1ms/step - loss: 80.1583 - mae: 7.0789\n",
            "Epoch 64/100\n",
            "37/37 [==============================] - 0s 1ms/step - loss: 95.7864 - mae: 7.8633\n",
            "Epoch 65/100\n",
            "37/37 [==============================] - 0s 1ms/step - loss: 85.7642 - mae: 7.3927\n",
            "Epoch 66/100\n",
            "37/37 [==============================] - 0s 1ms/step - loss: 97.2062 - mae: 7.7819\n",
            "Epoch 67/100\n",
            "37/37 [==============================] - 0s 1ms/step - loss: 94.2344 - mae: 7.6259\n",
            "Epoch 68/100\n",
            "37/37 [==============================] - 0s 1ms/step - loss: 118.2788 - mae: 8.7103\n",
            "Epoch 69/100\n",
            "37/37 [==============================] - 0s 1ms/step - loss: 81.7481 - mae: 7.1244\n",
            "Epoch 70/100\n",
            "37/37 [==============================] - 0s 1ms/step - loss: 85.6233 - mae: 7.3392\n",
            "Epoch 71/100\n",
            "37/37 [==============================] - 0s 1ms/step - loss: 84.4623 - mae: 7.1852\n",
            "Epoch 72/100\n",
            "37/37 [==============================] - 0s 1ms/step - loss: 95.4233 - mae: 7.9722\n",
            "Epoch 73/100\n",
            "37/37 [==============================] - 0s 1ms/step - loss: 100.7963 - mae: 7.7430\n",
            "Epoch 74/100\n",
            "37/37 [==============================] - 0s 1ms/step - loss: 87.2247 - mae: 7.4775\n",
            "Epoch 75/100\n",
            "37/37 [==============================] - 0s 1ms/step - loss: 80.8952 - mae: 7.0793\n",
            "Epoch 76/100\n",
            "37/37 [==============================] - 0s 1ms/step - loss: 88.7370 - mae: 7.4463\n",
            "Epoch 77/100\n",
            "37/37 [==============================] - 0s 1ms/step - loss: 73.9512 - mae: 6.9267\n",
            "Epoch 78/100\n",
            "37/37 [==============================] - 0s 1ms/step - loss: 67.8541 - mae: 6.5307\n",
            "Epoch 79/100\n",
            "37/37 [==============================] - 0s 1ms/step - loss: 108.9495 - mae: 8.4045\n",
            "Epoch 80/100\n",
            "37/37 [==============================] - 0s 1ms/step - loss: 97.6233 - mae: 7.8790\n",
            "Epoch 81/100\n",
            "37/37 [==============================] - 0s 1ms/step - loss: 77.5924 - mae: 7.0916\n",
            "Epoch 82/100\n",
            "37/37 [==============================] - 0s 2ms/step - loss: 78.8822 - mae: 6.8431\n",
            "Epoch 83/100\n",
            "37/37 [==============================] - 0s 1ms/step - loss: 84.6314 - mae: 7.5582\n",
            "Epoch 84/100\n",
            "37/37 [==============================] - 0s 1ms/step - loss: 96.8550 - mae: 7.6974\n",
            "Epoch 85/100\n",
            "37/37 [==============================] - 0s 1ms/step - loss: 71.2451 - mae: 6.8083\n",
            "Epoch 86/100\n",
            "37/37 [==============================] - 0s 1ms/step - loss: 76.2842 - mae: 6.6803\n",
            "Epoch 87/100\n",
            "37/37 [==============================] - 0s 1ms/step - loss: 113.1878 - mae: 7.7168\n",
            "Epoch 88/100\n",
            "37/37 [==============================] - 0s 1ms/step - loss: 90.3027 - mae: 7.6994\n",
            "Epoch 89/100\n",
            "37/37 [==============================] - 0s 1ms/step - loss: 97.0036 - mae: 7.6221\n",
            "Epoch 90/100\n",
            "37/37 [==============================] - 0s 1ms/step - loss: 88.6026 - mae: 7.4794\n",
            "Epoch 91/100\n",
            "37/37 [==============================] - 0s 1ms/step - loss: 78.6645 - mae: 6.8060\n",
            "Epoch 92/100\n",
            "37/37 [==============================] - 0s 1ms/step - loss: 92.1738 - mae: 7.6384\n",
            "Epoch 93/100\n",
            "37/37 [==============================] - 0s 1ms/step - loss: 71.3057 - mae: 6.7660\n",
            "Epoch 94/100\n",
            "37/37 [==============================] - 0s 1ms/step - loss: 63.6933 - mae: 6.3013\n",
            "Epoch 95/100\n",
            "37/37 [==============================] - 0s 1ms/step - loss: 112.1449 - mae: 8.2744\n",
            "Epoch 96/100\n",
            "37/37 [==============================] - 0s 1ms/step - loss: 73.2163 - mae: 6.8790\n",
            "Epoch 97/100\n",
            "37/37 [==============================] - 0s 1ms/step - loss: 67.9439 - mae: 6.5934\n",
            "Epoch 98/100\n",
            "37/37 [==============================] - 0s 1ms/step - loss: 83.6228 - mae: 7.0341\n",
            "Epoch 99/100\n",
            "37/37 [==============================] - 0s 1ms/step - loss: 72.7202 - mae: 6.8653\n",
            "Epoch 100/100\n",
            "37/37 [==============================] - 0s 2ms/step - loss: 93.9782 - mae: 7.7297\n"
          ],
          "name": "stdout"
        },
        {
          "output_type": "execute_result",
          "data": {
            "text/plain": [
              "<tensorflow.python.keras.callbacks.History at 0x7fa3f4a413d0>"
            ]
          },
          "metadata": {
            "tags": []
          },
          "execution_count": 16
        }
      ]
    }
  ]
}