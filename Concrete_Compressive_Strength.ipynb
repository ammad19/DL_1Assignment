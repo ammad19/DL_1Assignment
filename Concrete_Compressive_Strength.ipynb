{
  "nbformat": 4,
  "nbformat_minor": 0,
  "metadata": {
    "colab": {
      "name": "Concrete Compressive Strength.ipynb",
      "provenance": [],
      "collapsed_sections": [],
      "authorship_tag": "ABX9TyPt6uVaER/TYvTHfkzEIeOV",
      "include_colab_link": true
    },
    "kernelspec": {
      "name": "python3",
      "display_name": "Python 3"
    },
    "language_info": {
      "name": "python"
    }
  },
  "cells": [
    {
      "cell_type": "markdown",
      "metadata": {
        "id": "view-in-github",
        "colab_type": "text"
      },
      "source": [
        "<a href=\"https://colab.research.google.com/github/ammad19/DL_1Assignment/blob/main/Concrete_Compressive_Strength.ipynb\" target=\"_parent\"><img src=\"https://colab.research.google.com/assets/colab-badge.svg\" alt=\"Open In Colab\"/></a>"
      ]
    },
    {
      "cell_type": "code",
      "metadata": {
        "id": "ejkD7sds5tmc"
      },
      "source": [
        "import numpy as np\n",
        "import pandas as pd\n"
      ],
      "execution_count": 1,
      "outputs": []
    },
    {
      "cell_type": "code",
      "metadata": {
        "id": "4VYVR8vI6AuV"
      },
      "source": [
        "data = pd.read_csv(\"compresive_strength_concrete.csv\")"
      ],
      "execution_count": 3,
      "outputs": []
    },
    {
      "cell_type": "code",
      "metadata": {
        "colab": {
          "base_uri": "https://localhost:8080/",
          "height": 255
        },
        "id": "4c629oJb6qH-",
        "outputId": "8b51e612-c652-4f62-f222-358ca71925b8"
      },
      "source": [
        "data.head()"
      ],
      "execution_count": 4,
      "outputs": [
        {
          "output_type": "execute_result",
          "data": {
            "text/html": [
              "<div>\n",
              "<style scoped>\n",
              "    .dataframe tbody tr th:only-of-type {\n",
              "        vertical-align: middle;\n",
              "    }\n",
              "\n",
              "    .dataframe tbody tr th {\n",
              "        vertical-align: top;\n",
              "    }\n",
              "\n",
              "    .dataframe thead th {\n",
              "        text-align: right;\n",
              "    }\n",
              "</style>\n",
              "<table border=\"1\" class=\"dataframe\">\n",
              "  <thead>\n",
              "    <tr style=\"text-align: right;\">\n",
              "      <th></th>\n",
              "      <th>Cement (component 1)(kg in a m^3 mixture)</th>\n",
              "      <th>Blast Furnace Slag (component 2)(kg in a m^3 mixture)</th>\n",
              "      <th>Fly Ash (component 3)(kg in a m^3 mixture)</th>\n",
              "      <th>Water  (component 4)(kg in a m^3 mixture)</th>\n",
              "      <th>Superplasticizer (component 5)(kg in a m^3 mixture)</th>\n",
              "      <th>Coarse Aggregate  (component 6)(kg in a m^3 mixture)</th>\n",
              "      <th>Fine Aggregate (component 7)(kg in a m^3 mixture)</th>\n",
              "      <th>Age (day)</th>\n",
              "      <th>Concrete compressive strength(MPa, megapascals)</th>\n",
              "    </tr>\n",
              "  </thead>\n",
              "  <tbody>\n",
              "    <tr>\n",
              "      <th>0</th>\n",
              "      <td>540.0</td>\n",
              "      <td>0.0</td>\n",
              "      <td>0.0</td>\n",
              "      <td>162.0</td>\n",
              "      <td>2.5</td>\n",
              "      <td>1040.0</td>\n",
              "      <td>676.0</td>\n",
              "      <td>28</td>\n",
              "      <td>79.99</td>\n",
              "    </tr>\n",
              "    <tr>\n",
              "      <th>1</th>\n",
              "      <td>540.0</td>\n",
              "      <td>0.0</td>\n",
              "      <td>0.0</td>\n",
              "      <td>162.0</td>\n",
              "      <td>2.5</td>\n",
              "      <td>1055.0</td>\n",
              "      <td>676.0</td>\n",
              "      <td>28</td>\n",
              "      <td>61.89</td>\n",
              "    </tr>\n",
              "    <tr>\n",
              "      <th>2</th>\n",
              "      <td>332.5</td>\n",
              "      <td>142.5</td>\n",
              "      <td>0.0</td>\n",
              "      <td>228.0</td>\n",
              "      <td>0.0</td>\n",
              "      <td>932.0</td>\n",
              "      <td>594.0</td>\n",
              "      <td>270</td>\n",
              "      <td>40.27</td>\n",
              "    </tr>\n",
              "    <tr>\n",
              "      <th>3</th>\n",
              "      <td>332.5</td>\n",
              "      <td>142.5</td>\n",
              "      <td>0.0</td>\n",
              "      <td>228.0</td>\n",
              "      <td>0.0</td>\n",
              "      <td>932.0</td>\n",
              "      <td>594.0</td>\n",
              "      <td>365</td>\n",
              "      <td>41.05</td>\n",
              "    </tr>\n",
              "    <tr>\n",
              "      <th>4</th>\n",
              "      <td>198.6</td>\n",
              "      <td>132.4</td>\n",
              "      <td>0.0</td>\n",
              "      <td>192.0</td>\n",
              "      <td>0.0</td>\n",
              "      <td>978.4</td>\n",
              "      <td>825.5</td>\n",
              "      <td>360</td>\n",
              "      <td>44.30</td>\n",
              "    </tr>\n",
              "  </tbody>\n",
              "</table>\n",
              "</div>"
            ],
            "text/plain": [
              "   Cement (component 1)(kg in a m^3 mixture)  ...  Concrete compressive strength(MPa, megapascals) \n",
              "0                                      540.0  ...                                             79.99\n",
              "1                                      540.0  ...                                             61.89\n",
              "2                                      332.5  ...                                             40.27\n",
              "3                                      332.5  ...                                             41.05\n",
              "4                                      198.6  ...                                             44.30\n",
              "\n",
              "[5 rows x 9 columns]"
            ]
          },
          "metadata": {
            "tags": []
          },
          "execution_count": 4
        }
      ]
    },
    {
      "cell_type": "code",
      "metadata": {
        "colab": {
          "base_uri": "https://localhost:8080/"
        },
        "id": "mHRFGAeW67aE",
        "outputId": "c8a485fc-adc2-4f51-8bfb-4b7e79d3a2fa"
      },
      "source": [
        "data.ndim"
      ],
      "execution_count": 6,
      "outputs": [
        {
          "output_type": "execute_result",
          "data": {
            "text/plain": [
              "2"
            ]
          },
          "metadata": {
            "tags": []
          },
          "execution_count": 6
        }
      ]
    },
    {
      "cell_type": "code",
      "metadata": {
        "colab": {
          "base_uri": "https://localhost:8080/"
        },
        "id": "25v4YxDd69SQ",
        "outputId": "98c41c5f-c02b-43b2-ed73-c8d90cf9c4e8"
      },
      "source": [
        "len(data)"
      ],
      "execution_count": 7,
      "outputs": [
        {
          "output_type": "execute_result",
          "data": {
            "text/plain": [
              "1030"
            ]
          },
          "metadata": {
            "tags": []
          },
          "execution_count": 7
        }
      ]
    },
    {
      "cell_type": "code",
      "metadata": {
        "colab": {
          "base_uri": "https://localhost:8080/"
        },
        "id": "pH3IpLfd7BkX",
        "outputId": "6fa06a30-2f29-4cd6-f3c2-d2f9636ce8b9"
      },
      "source": [
        "data.isnull().sum()"
      ],
      "execution_count": 10,
      "outputs": [
        {
          "output_type": "execute_result",
          "data": {
            "text/plain": [
              "Cement (component 1)(kg in a m^3 mixture)                0\n",
              "Blast Furnace Slag (component 2)(kg in a m^3 mixture)    0\n",
              "Fly Ash (component 3)(kg in a m^3 mixture)               0\n",
              "Water  (component 4)(kg in a m^3 mixture)                0\n",
              "Superplasticizer (component 5)(kg in a m^3 mixture)      0\n",
              "Coarse Aggregate  (component 6)(kg in a m^3 mixture)     0\n",
              "Fine Aggregate (component 7)(kg in a m^3 mixture)        0\n",
              "Age (day)                                                0\n",
              "Concrete compressive strength(MPa, megapascals)          0\n",
              "dtype: int64"
            ]
          },
          "metadata": {
            "tags": []
          },
          "execution_count": 10
        }
      ]
    },
    {
      "cell_type": "code",
      "metadata": {
        "colab": {
          "base_uri": "https://localhost:8080/",
          "height": 348
        },
        "id": "8oJ_irs87yJt",
        "outputId": "c0214fe5-41f2-464b-fed7-fb60a1ef8910"
      },
      "source": [
        "data.describe()"
      ],
      "execution_count": 11,
      "outputs": [
        {
          "output_type": "execute_result",
          "data": {
            "text/html": [
              "<div>\n",
              "<style scoped>\n",
              "    .dataframe tbody tr th:only-of-type {\n",
              "        vertical-align: middle;\n",
              "    }\n",
              "\n",
              "    .dataframe tbody tr th {\n",
              "        vertical-align: top;\n",
              "    }\n",
              "\n",
              "    .dataframe thead th {\n",
              "        text-align: right;\n",
              "    }\n",
              "</style>\n",
              "<table border=\"1\" class=\"dataframe\">\n",
              "  <thead>\n",
              "    <tr style=\"text-align: right;\">\n",
              "      <th></th>\n",
              "      <th>Cement (component 1)(kg in a m^3 mixture)</th>\n",
              "      <th>Blast Furnace Slag (component 2)(kg in a m^3 mixture)</th>\n",
              "      <th>Fly Ash (component 3)(kg in a m^3 mixture)</th>\n",
              "      <th>Water  (component 4)(kg in a m^3 mixture)</th>\n",
              "      <th>Superplasticizer (component 5)(kg in a m^3 mixture)</th>\n",
              "      <th>Coarse Aggregate  (component 6)(kg in a m^3 mixture)</th>\n",
              "      <th>Fine Aggregate (component 7)(kg in a m^3 mixture)</th>\n",
              "      <th>Age (day)</th>\n",
              "      <th>Concrete compressive strength(MPa, megapascals)</th>\n",
              "    </tr>\n",
              "  </thead>\n",
              "  <tbody>\n",
              "    <tr>\n",
              "      <th>count</th>\n",
              "      <td>1030.000000</td>\n",
              "      <td>1030.000000</td>\n",
              "      <td>1030.000000</td>\n",
              "      <td>1030.000000</td>\n",
              "      <td>1030.000000</td>\n",
              "      <td>1030.000000</td>\n",
              "      <td>1030.000000</td>\n",
              "      <td>1030.000000</td>\n",
              "      <td>1030.000000</td>\n",
              "    </tr>\n",
              "    <tr>\n",
              "      <th>mean</th>\n",
              "      <td>281.167864</td>\n",
              "      <td>73.895825</td>\n",
              "      <td>54.188350</td>\n",
              "      <td>181.567282</td>\n",
              "      <td>6.204660</td>\n",
              "      <td>972.918932</td>\n",
              "      <td>773.580485</td>\n",
              "      <td>45.662136</td>\n",
              "      <td>35.817961</td>\n",
              "    </tr>\n",
              "    <tr>\n",
              "      <th>std</th>\n",
              "      <td>104.506364</td>\n",
              "      <td>86.279342</td>\n",
              "      <td>63.997004</td>\n",
              "      <td>21.354219</td>\n",
              "      <td>5.973841</td>\n",
              "      <td>77.753954</td>\n",
              "      <td>80.175980</td>\n",
              "      <td>63.169912</td>\n",
              "      <td>16.705742</td>\n",
              "    </tr>\n",
              "    <tr>\n",
              "      <th>min</th>\n",
              "      <td>102.000000</td>\n",
              "      <td>0.000000</td>\n",
              "      <td>0.000000</td>\n",
              "      <td>121.800000</td>\n",
              "      <td>0.000000</td>\n",
              "      <td>801.000000</td>\n",
              "      <td>594.000000</td>\n",
              "      <td>1.000000</td>\n",
              "      <td>2.330000</td>\n",
              "    </tr>\n",
              "    <tr>\n",
              "      <th>25%</th>\n",
              "      <td>192.375000</td>\n",
              "      <td>0.000000</td>\n",
              "      <td>0.000000</td>\n",
              "      <td>164.900000</td>\n",
              "      <td>0.000000</td>\n",
              "      <td>932.000000</td>\n",
              "      <td>730.950000</td>\n",
              "      <td>7.000000</td>\n",
              "      <td>23.710000</td>\n",
              "    </tr>\n",
              "    <tr>\n",
              "      <th>50%</th>\n",
              "      <td>272.900000</td>\n",
              "      <td>22.000000</td>\n",
              "      <td>0.000000</td>\n",
              "      <td>185.000000</td>\n",
              "      <td>6.400000</td>\n",
              "      <td>968.000000</td>\n",
              "      <td>779.500000</td>\n",
              "      <td>28.000000</td>\n",
              "      <td>34.445000</td>\n",
              "    </tr>\n",
              "    <tr>\n",
              "      <th>75%</th>\n",
              "      <td>350.000000</td>\n",
              "      <td>142.950000</td>\n",
              "      <td>118.300000</td>\n",
              "      <td>192.000000</td>\n",
              "      <td>10.200000</td>\n",
              "      <td>1029.400000</td>\n",
              "      <td>824.000000</td>\n",
              "      <td>56.000000</td>\n",
              "      <td>46.135000</td>\n",
              "    </tr>\n",
              "    <tr>\n",
              "      <th>max</th>\n",
              "      <td>540.000000</td>\n",
              "      <td>359.400000</td>\n",
              "      <td>200.100000</td>\n",
              "      <td>247.000000</td>\n",
              "      <td>32.200000</td>\n",
              "      <td>1145.000000</td>\n",
              "      <td>992.600000</td>\n",
              "      <td>365.000000</td>\n",
              "      <td>82.600000</td>\n",
              "    </tr>\n",
              "  </tbody>\n",
              "</table>\n",
              "</div>"
            ],
            "text/plain": [
              "       Cement (component 1)(kg in a m^3 mixture)  ...  Concrete compressive strength(MPa, megapascals) \n",
              "count                                1030.000000  ...                                       1030.000000\n",
              "mean                                  281.167864  ...                                         35.817961\n",
              "std                                   104.506364  ...                                         16.705742\n",
              "min                                   102.000000  ...                                          2.330000\n",
              "25%                                   192.375000  ...                                         23.710000\n",
              "50%                                   272.900000  ...                                         34.445000\n",
              "75%                                   350.000000  ...                                         46.135000\n",
              "max                                   540.000000  ...                                         82.600000\n",
              "\n",
              "[8 rows x 9 columns]"
            ]
          },
          "metadata": {
            "tags": []
          },
          "execution_count": 11
        }
      ]
    },
    {
      "cell_type": "code",
      "metadata": {
        "id": "HyMhguLp8CIE"
      },
      "source": [
        "X = data.iloc[:,:-1]         \n",
        "y = data.iloc[:,-1]"
      ],
      "execution_count": 12,
      "outputs": []
    },
    {
      "cell_type": "code",
      "metadata": {
        "id": "l2lt-2yg8vMR"
      },
      "source": [
        "from sklearn.model_selection import train_test_split\n",
        "X_train, X_test, y_train, y_test = train_test_split(X, y, test_size=0.3, random_state=2)"
      ],
      "execution_count": 13,
      "outputs": []
    },
    {
      "cell_type": "code",
      "metadata": {
        "colab": {
          "base_uri": "https://localhost:8080/"
        },
        "id": "DVc5V1Uq9jbI",
        "outputId": "0cc77486-fb10-46b3-c6e5-5686d8e99e63"
      },
      "source": [
        "import tensorflow as tf\n",
        "from tensorflow.keras.models import Sequential\n",
        "from tensorflow.keras.layers import Dense \n",
        "from tensorflow.keras.optimizers import Adam, SGD\n",
        "model = Sequential()\n",
        "model.add(tf.keras.layers.Dense(64, activation='relu',input_shape =(8,)))\n",
        "#model.add(tf.keras.layers.Dense(1, activation='relu'))\n",
        "model.add(tf.keras.layers.Dense(1,))\n",
        "model.compile(optimizer='rmsprop', loss='mse', metrics=['mae'])  \n",
        "model.fit(X_train, y_train,epochs=100,batch_size=20) "
      ],
      "execution_count": 19,
      "outputs": [
        {
          "output_type": "stream",
          "text": [
            "Epoch 1/100\n",
            "37/37 [==============================] - 1s 1ms/step - loss: 661.4037 - mae: 20.7845\n",
            "Epoch 2/100\n",
            "37/37 [==============================] - 0s 1ms/step - loss: 358.2493 - mae: 14.9470\n",
            "Epoch 3/100\n",
            "37/37 [==============================] - 0s 2ms/step - loss: 284.0018 - mae: 13.0437\n",
            "Epoch 4/100\n",
            "37/37 [==============================] - 0s 1ms/step - loss: 173.2584 - mae: 10.6054\n",
            "Epoch 5/100\n",
            "37/37 [==============================] - 0s 1ms/step - loss: 171.7034 - mae: 10.4348\n",
            "Epoch 6/100\n",
            "37/37 [==============================] - 0s 1ms/step - loss: 125.9090 - mae: 8.6642\n",
            "Epoch 7/100\n",
            "37/37 [==============================] - 0s 1ms/step - loss: 165.0444 - mae: 10.0410\n",
            "Epoch 8/100\n",
            "37/37 [==============================] - 0s 1ms/step - loss: 156.5312 - mae: 9.8478\n",
            "Epoch 9/100\n",
            "37/37 [==============================] - 0s 1ms/step - loss: 146.0376 - mae: 9.4070\n",
            "Epoch 10/100\n",
            "37/37 [==============================] - 0s 1ms/step - loss: 123.1117 - mae: 8.7995\n",
            "Epoch 11/100\n",
            "37/37 [==============================] - 0s 1ms/step - loss: 136.8077 - mae: 9.3364\n",
            "Epoch 12/100\n",
            "37/37 [==============================] - 0s 1ms/step - loss: 154.4894 - mae: 9.7230\n",
            "Epoch 13/100\n",
            "37/37 [==============================] - 0s 1ms/step - loss: 132.9625 - mae: 9.0930\n",
            "Epoch 14/100\n",
            "37/37 [==============================] - 0s 1ms/step - loss: 156.4985 - mae: 9.9729\n",
            "Epoch 15/100\n",
            "37/37 [==============================] - 0s 1ms/step - loss: 136.3628 - mae: 9.1994\n",
            "Epoch 16/100\n",
            "37/37 [==============================] - 0s 1ms/step - loss: 116.2774 - mae: 8.5460\n",
            "Epoch 17/100\n",
            "37/37 [==============================] - 0s 1ms/step - loss: 144.9325 - mae: 9.5853\n",
            "Epoch 18/100\n",
            "37/37 [==============================] - 0s 1ms/step - loss: 104.7955 - mae: 7.9577\n",
            "Epoch 19/100\n",
            "37/37 [==============================] - 0s 1ms/step - loss: 133.0139 - mae: 9.2262\n",
            "Epoch 20/100\n",
            "37/37 [==============================] - 0s 1ms/step - loss: 113.6967 - mae: 8.3294\n",
            "Epoch 21/100\n",
            "37/37 [==============================] - 0s 1ms/step - loss: 145.2203 - mae: 9.6038\n",
            "Epoch 22/100\n",
            "37/37 [==============================] - 0s 1ms/step - loss: 98.7868 - mae: 7.6872\n",
            "Epoch 23/100\n",
            "37/37 [==============================] - 0s 1ms/step - loss: 134.7983 - mae: 8.9234\n",
            "Epoch 24/100\n",
            "37/37 [==============================] - 0s 1ms/step - loss: 109.1030 - mae: 8.2389\n",
            "Epoch 25/100\n",
            "37/37 [==============================] - 0s 1ms/step - loss: 198.0134 - mae: 10.5365\n",
            "Epoch 26/100\n",
            "37/37 [==============================] - 0s 1ms/step - loss: 120.0033 - mae: 8.5328\n",
            "Epoch 27/100\n",
            "37/37 [==============================] - 0s 1ms/step - loss: 136.7082 - mae: 9.2702\n",
            "Epoch 28/100\n",
            "37/37 [==============================] - 0s 1ms/step - loss: 107.7516 - mae: 8.1867\n",
            "Epoch 29/100\n",
            "37/37 [==============================] - 0s 1ms/step - loss: 197.1384 - mae: 9.8509\n",
            "Epoch 30/100\n",
            "37/37 [==============================] - 0s 1ms/step - loss: 120.3020 - mae: 8.6796\n",
            "Epoch 31/100\n",
            "37/37 [==============================] - 0s 1ms/step - loss: 108.7249 - mae: 8.3170\n",
            "Epoch 32/100\n",
            "37/37 [==============================] - 0s 1ms/step - loss: 111.1176 - mae: 8.3787\n",
            "Epoch 33/100\n",
            "37/37 [==============================] - 0s 2ms/step - loss: 102.7411 - mae: 8.0628\n",
            "Epoch 34/100\n",
            "37/37 [==============================] - 0s 1ms/step - loss: 129.0643 - mae: 8.7954\n",
            "Epoch 35/100\n",
            "37/37 [==============================] - 0s 1ms/step - loss: 96.1414 - mae: 7.9190\n",
            "Epoch 36/100\n",
            "37/37 [==============================] - 0s 1ms/step - loss: 128.6335 - mae: 8.8953\n",
            "Epoch 37/100\n",
            "37/37 [==============================] - 0s 1ms/step - loss: 105.5837 - mae: 8.0555\n",
            "Epoch 38/100\n",
            "37/37 [==============================] - 0s 1ms/step - loss: 111.8479 - mae: 8.4125\n",
            "Epoch 39/100\n",
            "37/37 [==============================] - 0s 1ms/step - loss: 135.6732 - mae: 8.7333\n",
            "Epoch 40/100\n",
            "37/37 [==============================] - 0s 1ms/step - loss: 113.7214 - mae: 8.3205\n",
            "Epoch 41/100\n",
            "37/37 [==============================] - 0s 1ms/step - loss: 119.5698 - mae: 8.5708\n",
            "Epoch 42/100\n",
            "37/37 [==============================] - 0s 1ms/step - loss: 110.9184 - mae: 8.5519\n",
            "Epoch 43/100\n",
            "37/37 [==============================] - 0s 2ms/step - loss: 152.1038 - mae: 9.3313\n",
            "Epoch 44/100\n",
            "37/37 [==============================] - 0s 1ms/step - loss: 97.1971 - mae: 7.7550\n",
            "Epoch 45/100\n",
            "37/37 [==============================] - 0s 1ms/step - loss: 93.0056 - mae: 7.8630\n",
            "Epoch 46/100\n",
            "37/37 [==============================] - 0s 1ms/step - loss: 89.5870 - mae: 7.3994\n",
            "Epoch 47/100\n",
            "37/37 [==============================] - 0s 1ms/step - loss: 82.9825 - mae: 6.9880\n",
            "Epoch 48/100\n",
            "37/37 [==============================] - 0s 1ms/step - loss: 89.7469 - mae: 7.3118\n",
            "Epoch 49/100\n",
            "37/37 [==============================] - 0s 1ms/step - loss: 111.2130 - mae: 8.3492\n",
            "Epoch 50/100\n",
            "37/37 [==============================] - 0s 1ms/step - loss: 88.2384 - mae: 7.4416\n",
            "Epoch 51/100\n",
            "37/37 [==============================] - 0s 1ms/step - loss: 118.5369 - mae: 8.6633\n",
            "Epoch 52/100\n",
            "37/37 [==============================] - 0s 1ms/step - loss: 126.7589 - mae: 8.6974\n",
            "Epoch 53/100\n",
            "37/37 [==============================] - 0s 1ms/step - loss: 81.2163 - mae: 7.0188\n",
            "Epoch 54/100\n",
            "37/37 [==============================] - 0s 1ms/step - loss: 85.6249 - mae: 7.3880\n",
            "Epoch 55/100\n",
            "37/37 [==============================] - 0s 1ms/step - loss: 91.7153 - mae: 7.5068\n",
            "Epoch 56/100\n",
            "37/37 [==============================] - 0s 1ms/step - loss: 97.4710 - mae: 7.5531\n",
            "Epoch 57/100\n",
            "37/37 [==============================] - 0s 1ms/step - loss: 90.2371 - mae: 7.4621\n",
            "Epoch 58/100\n",
            "37/37 [==============================] - 0s 1ms/step - loss: 108.4138 - mae: 8.4765\n",
            "Epoch 59/100\n",
            "37/37 [==============================] - 0s 1ms/step - loss: 105.5621 - mae: 8.0301\n",
            "Epoch 60/100\n",
            "37/37 [==============================] - 0s 1ms/step - loss: 87.9752 - mae: 7.3822\n",
            "Epoch 61/100\n",
            "37/37 [==============================] - 0s 1ms/step - loss: 113.9365 - mae: 8.8043\n",
            "Epoch 62/100\n",
            "37/37 [==============================] - 0s 1ms/step - loss: 115.3744 - mae: 8.4706\n",
            "Epoch 63/100\n",
            "37/37 [==============================] - 0s 1ms/step - loss: 82.6960 - mae: 7.2701\n",
            "Epoch 64/100\n",
            "37/37 [==============================] - 0s 1ms/step - loss: 105.3960 - mae: 8.0793\n",
            "Epoch 65/100\n",
            "37/37 [==============================] - 0s 1ms/step - loss: 93.6911 - mae: 7.6208\n",
            "Epoch 66/100\n",
            "37/37 [==============================] - 0s 1ms/step - loss: 108.0458 - mae: 8.1868\n",
            "Epoch 67/100\n",
            "37/37 [==============================] - 0s 1ms/step - loss: 93.3455 - mae: 7.6211\n",
            "Epoch 68/100\n",
            "37/37 [==============================] - 0s 1ms/step - loss: 89.6132 - mae: 7.4375\n",
            "Epoch 69/100\n",
            "37/37 [==============================] - 0s 1ms/step - loss: 111.4015 - mae: 8.2261\n",
            "Epoch 70/100\n",
            "37/37 [==============================] - 0s 1ms/step - loss: 99.7498 - mae: 7.8966\n",
            "Epoch 71/100\n",
            "37/37 [==============================] - 0s 1ms/step - loss: 77.4216 - mae: 6.8729\n",
            "Epoch 72/100\n",
            "37/37 [==============================] - 0s 1ms/step - loss: 83.0885 - mae: 7.1963\n",
            "Epoch 73/100\n",
            "37/37 [==============================] - 0s 1ms/step - loss: 140.7120 - mae: 8.6709\n",
            "Epoch 74/100\n",
            "37/37 [==============================] - 0s 1ms/step - loss: 111.5452 - mae: 8.0051\n",
            "Epoch 75/100\n",
            "37/37 [==============================] - 0s 1ms/step - loss: 91.6932 - mae: 7.5732\n",
            "Epoch 76/100\n",
            "37/37 [==============================] - 0s 1ms/step - loss: 86.0171 - mae: 7.4165\n",
            "Epoch 77/100\n",
            "37/37 [==============================] - 0s 1ms/step - loss: 84.7485 - mae: 7.2464\n",
            "Epoch 78/100\n",
            "37/37 [==============================] - 0s 1ms/step - loss: 120.7176 - mae: 8.4314\n",
            "Epoch 79/100\n",
            "37/37 [==============================] - 0s 1ms/step - loss: 92.2488 - mae: 7.5155\n",
            "Epoch 80/100\n",
            "37/37 [==============================] - 0s 1ms/step - loss: 93.5134 - mae: 7.6458\n",
            "Epoch 81/100\n",
            "37/37 [==============================] - 0s 1ms/step - loss: 97.0262 - mae: 7.7088\n",
            "Epoch 82/100\n",
            "37/37 [==============================] - 0s 1ms/step - loss: 93.6101 - mae: 7.6834\n",
            "Epoch 83/100\n",
            "37/37 [==============================] - 0s 1ms/step - loss: 82.9111 - mae: 7.2393\n",
            "Epoch 84/100\n",
            "37/37 [==============================] - 0s 1ms/step - loss: 86.0029 - mae: 7.3125\n",
            "Epoch 85/100\n",
            "37/37 [==============================] - 0s 2ms/step - loss: 78.1142 - mae: 6.9675\n",
            "Epoch 86/100\n",
            "37/37 [==============================] - 0s 1ms/step - loss: 112.7602 - mae: 8.2230\n",
            "Epoch 87/100\n",
            "37/37 [==============================] - 0s 1ms/step - loss: 86.5208 - mae: 7.2940\n",
            "Epoch 88/100\n",
            "37/37 [==============================] - 0s 2ms/step - loss: 97.4230 - mae: 7.4393\n",
            "Epoch 89/100\n",
            "37/37 [==============================] - 0s 1ms/step - loss: 111.7491 - mae: 8.3539\n",
            "Epoch 90/100\n",
            "37/37 [==============================] - 0s 1ms/step - loss: 113.8297 - mae: 8.3621\n",
            "Epoch 91/100\n",
            "37/37 [==============================] - 0s 1ms/step - loss: 92.1938 - mae: 7.7421\n",
            "Epoch 92/100\n",
            "37/37 [==============================] - 0s 1ms/step - loss: 87.1000 - mae: 7.2208\n",
            "Epoch 93/100\n",
            "37/37 [==============================] - 0s 1ms/step - loss: 84.2176 - mae: 7.1415\n",
            "Epoch 94/100\n",
            "37/37 [==============================] - 0s 1ms/step - loss: 101.5734 - mae: 7.5471\n",
            "Epoch 95/100\n",
            "37/37 [==============================] - 0s 1ms/step - loss: 102.1677 - mae: 7.8740\n",
            "Epoch 96/100\n",
            "37/37 [==============================] - 0s 1ms/step - loss: 91.3970 - mae: 7.8339\n",
            "Epoch 97/100\n",
            "37/37 [==============================] - 0s 1ms/step - loss: 100.2392 - mae: 7.6213\n",
            "Epoch 98/100\n",
            "37/37 [==============================] - 0s 1ms/step - loss: 88.9465 - mae: 7.4590\n",
            "Epoch 99/100\n",
            "37/37 [==============================] - 0s 1ms/step - loss: 73.2939 - mae: 6.6571\n",
            "Epoch 100/100\n",
            "37/37 [==============================] - 0s 1ms/step - loss: 100.9973 - mae: 8.1600\n"
          ],
          "name": "stdout"
        },
        {
          "output_type": "execute_result",
          "data": {
            "text/plain": [
              "<tensorflow.python.keras.callbacks.History at 0x7fa3f17813d0>"
            ]
          },
          "metadata": {
            "tags": []
          },
          "execution_count": 19
        }
      ]
    }
  ]
}